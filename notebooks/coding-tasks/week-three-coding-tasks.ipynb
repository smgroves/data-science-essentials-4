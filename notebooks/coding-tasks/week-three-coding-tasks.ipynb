{
 "cells": [
  {
   "cell_type": "markdown",
   "metadata": {},
   "source": [
    "## Week 3:\n",
    "\n",
    "New Topics:\n",
    "\n",
    " * Exploratory Data Analysis\n",
    "  \n",
    "\n",
    "Coding Task:\n",
    "\n",
    "This week, you will build off of your work from last week.\n",
    "1. First, (if you haven't done so already), create a new column indicating the SHADAC classification for each Tennessee county. You can use the following code to accomplish this:\n",
    "```\n",
    "physicians.loc[physicians['residents_per_pcp'] < 1500, 'shadac_category'] = 'adequate'\n",
    "physicians.loc[(physicians['residents_per_pcp'] >= 1500) & \n",
    "          (physicians['residents_per_pcp'] < 3500), 'shadac_category'] = 'moderately inadequate'\n",
    "physicians.loc[(physicians['residents_per_pcp'] >= 3500), 'shadac_category'] = 'low inadequate'\n",
    "```\n",
    "2. Use this new column to investigate if there is any relationship between a county's status as urban or rural and its SHADAC classification. Create a plot showing what you find.\n",
    "3. Merge the unemployment data (contained in tn_unemployment.csv) into the physicians DataFrame.\n",
    "4. How do unemployment rates compare for urban counties versus rural counties?\n",
    "5. Create a new column, `pcp_per_100k` which contains the number of primary care physicians per 100,000 residents. Investigate the relationship between this new measure and the unemployment rate per county. What do you find?\n"
   ]
  },
  {
   "cell_type": "code",
   "execution_count": 1,
   "metadata": {},
   "outputs": [],
   "source": [
    "import pandas as pd"
   ]
  },
  {
   "cell_type": "code",
   "execution_count": 16,
   "metadata": {},
   "outputs": [],
   "source": [
    "physicians = pd.read_csv('../../data/primary_care_physicians.csv')"
   ]
  },
  {
   "cell_type": "code",
   "execution_count": 17,
   "metadata": {},
   "outputs": [
    {
     "data": {
      "text/plain": [
       "(95, 4)"
      ]
     },
     "execution_count": 17,
     "metadata": {},
     "output_type": "execute_result"
    }
   ],
   "source": [
    "physicians = physicians.loc[physicians.state == 'Tennessee']\n",
    "physicians.shape"
   ]
  },
  {
   "cell_type": "code",
   "execution_count": 18,
   "metadata": {},
   "outputs": [
    {
     "data": {
      "text/html": [
       "<div>\n",
       "<style scoped>\n",
       "    .dataframe tbody tr th:only-of-type {\n",
       "        vertical-align: middle;\n",
       "    }\n",
       "\n",
       "    .dataframe tbody tr th {\n",
       "        vertical-align: top;\n",
       "    }\n",
       "\n",
       "    .dataframe thead th {\n",
       "        text-align: right;\n",
       "    }\n",
       "</style>\n",
       "<table border=\"1\" class=\"dataframe\">\n",
       "  <thead>\n",
       "    <tr style=\"text-align: right;\">\n",
       "      <th></th>\n",
       "      <th>FIPS</th>\n",
       "      <th>population</th>\n",
       "      <th>county</th>\n",
       "      <th>state</th>\n",
       "      <th>urban</th>\n",
       "    </tr>\n",
       "  </thead>\n",
       "  <tbody>\n",
       "    <tr>\n",
       "      <th>0</th>\n",
       "      <td>17051</td>\n",
       "      <td>21565</td>\n",
       "      <td>Fayette County</td>\n",
       "      <td>ILLINOIS</td>\n",
       "      <td>Rural</td>\n",
       "    </tr>\n",
       "    <tr>\n",
       "      <th>1</th>\n",
       "      <td>17107</td>\n",
       "      <td>29003</td>\n",
       "      <td>Logan County</td>\n",
       "      <td>ILLINOIS</td>\n",
       "      <td>Rural</td>\n",
       "    </tr>\n",
       "    <tr>\n",
       "      <th>2</th>\n",
       "      <td>17165</td>\n",
       "      <td>23994</td>\n",
       "      <td>Saline County</td>\n",
       "      <td>ILLINOIS</td>\n",
       "      <td>Rural</td>\n",
       "    </tr>\n",
       "    <tr>\n",
       "      <th>3</th>\n",
       "      <td>17097</td>\n",
       "      <td>701473</td>\n",
       "      <td>Lake County</td>\n",
       "      <td>ILLINOIS</td>\n",
       "      <td>Urban</td>\n",
       "    </tr>\n",
       "    <tr>\n",
       "      <th>4</th>\n",
       "      <td>17127</td>\n",
       "      <td>14219</td>\n",
       "      <td>Massac County</td>\n",
       "      <td>ILLINOIS</td>\n",
       "      <td>Rural</td>\n",
       "    </tr>\n",
       "  </tbody>\n",
       "</table>\n",
       "</div>"
      ],
      "text/plain": [
       "    FIPS  population          county     state  urban\n",
       "0  17051       21565  Fayette County  ILLINOIS  Rural\n",
       "1  17107       29003    Logan County  ILLINOIS  Rural\n",
       "2  17165       23994   Saline County  ILLINOIS  Rural\n",
       "3  17097      701473     Lake County  ILLINOIS  Urban\n",
       "4  17127       14219   Massac County  ILLINOIS  Rural"
      ]
     },
     "execution_count": 18,
     "metadata": {},
     "output_type": "execute_result"
    }
   ],
   "source": [
    "population = pd.read_csv('../../data/population_by_county.csv')\n",
    "population.head()"
   ]
  },
  {
   "cell_type": "code",
   "execution_count": 20,
   "metadata": {},
   "outputs": [],
   "source": [
    "physicians = pd.merge(left = physicians, right = population[['FIPS','population','urban']], left_on='FIPS', right_on = 'FIPS')"
   ]
  },
  {
   "cell_type": "code",
   "execution_count": 21,
   "metadata": {},
   "outputs": [
    {
     "data": {
      "text/plain": [
       "Rural    57\n",
       "Urban    38\n",
       "Name: urban, dtype: int64"
      ]
     },
     "execution_count": 21,
     "metadata": {},
     "output_type": "execute_result"
    }
   ],
   "source": [
    "physicians['urban'].value_counts()"
   ]
  },
  {
   "cell_type": "code",
   "execution_count": 22,
   "metadata": {},
   "outputs": [],
   "source": [
    "physicians.loc[physicians.population/physicians.primary_care_physicians < 1500,'supply'] = 'adequate'\n",
    "physicians.loc[(physicians.population/physicians.primary_care_physicians > 1500) &\n",
    "               (physicians.population/physicians.primary_care_physicians < 3500),'supply'] = 'moderately adequate'\n",
    "physicians.loc[physicians.population/physicians.primary_care_physicians > 3500,'supply'] = 'low inadequate'"
   ]
  },
  {
   "cell_type": "code",
   "execution_count": 23,
   "metadata": {},
   "outputs": [],
   "source": [
    "physicians = physicians.rename({'supply':'shadac_category'}, axis = 'columns')"
   ]
  },
  {
   "cell_type": "code",
   "execution_count": 30,
   "metadata": {},
   "outputs": [
    {
     "data": {
      "text/plain": [
       "Text(0.5, 1.0, 'SHADAC Category by Type of County')"
      ]
     },
     "execution_count": 30,
     "metadata": {},
     "output_type": "execute_result"
    },
    {
     "data": {
      "image/png": "[encoded data removed]",
      "text/plain": [
       "<Figure size 432x288 with 1 Axes>"
      ]
     },
     "metadata": {
      "needs_background": "light"
     },
     "output_type": "display_data"
    }
   ],
   "source": [
    "import matplotlib.pyplot as plt\n",
    "pd.crosstab(physicians.urban, physicians.shadac_category, normalize='index').plot(kind = 'bar', stacked = True)\n",
    "plt.xticks(rotation = 0)\n",
    "plt.legend(bbox_to_anchor = (1, 0.8), loc = 'upper left');   # move the legend to the right side of the plot\n",
    "plt.title(\"SHADAC Category by Type of County\")"
   ]
  },
  {
   "cell_type": "code",
   "execution_count": 50,
   "metadata": {},
   "outputs": [
    {
     "data": {
      "text/html": [
       "<div>\n",
       "<style scoped>\n",
       "    .dataframe tbody tr th:only-of-type {\n",
       "        vertical-align: middle;\n",
       "    }\n",
       "\n",
       "    .dataframe tbody tr th {\n",
       "        vertical-align: top;\n",
       "    }\n",
       "\n",
       "    .dataframe thead th {\n",
       "        text-align: right;\n",
       "    }\n",
       "</style>\n",
       "<table border=\"1\" class=\"dataframe\">\n",
       "  <thead>\n",
       "    <tr style=\"text-align: right;\">\n",
       "      <th></th>\n",
       "      <th>FIPS</th>\n",
       "      <th>state</th>\n",
       "      <th>county</th>\n",
       "      <th>primary_care_physicians</th>\n",
       "      <th>population</th>\n",
       "      <th>urban</th>\n",
       "      <th>shadac_category</th>\n",
       "    </tr>\n",
       "  </thead>\n",
       "  <tbody>\n",
       "    <tr>\n",
       "      <th>0</th>\n",
       "      <td>47001</td>\n",
       "      <td>Tennessee</td>\n",
       "      <td>Anderson</td>\n",
       "      <td>39.0</td>\n",
       "      <td>76061</td>\n",
       "      <td>Urban</td>\n",
       "      <td>moderately adequate</td>\n",
       "    </tr>\n",
       "    <tr>\n",
       "      <th>1</th>\n",
       "      <td>47003</td>\n",
       "      <td>Tennessee</td>\n",
       "      <td>Bedford</td>\n",
       "      <td>15.0</td>\n",
       "      <td>48292</td>\n",
       "      <td>Rural</td>\n",
       "      <td>moderately adequate</td>\n",
       "    </tr>\n",
       "    <tr>\n",
       "      <th>2</th>\n",
       "      <td>47005</td>\n",
       "      <td>Tennessee</td>\n",
       "      <td>Benton</td>\n",
       "      <td>3.0</td>\n",
       "      <td>16140</td>\n",
       "      <td>Rural</td>\n",
       "      <td>low inadequate</td>\n",
       "    </tr>\n",
       "    <tr>\n",
       "      <th>3</th>\n",
       "      <td>47007</td>\n",
       "      <td>Tennessee</td>\n",
       "      <td>Bledsoe</td>\n",
       "      <td>1.0</td>\n",
       "      <td>14836</td>\n",
       "      <td>Rural</td>\n",
       "      <td>low inadequate</td>\n",
       "    </tr>\n",
       "    <tr>\n",
       "      <th>4</th>\n",
       "      <td>47009</td>\n",
       "      <td>Tennessee</td>\n",
       "      <td>Blount</td>\n",
       "      <td>90.0</td>\n",
       "      <td>129927</td>\n",
       "      <td>Urban</td>\n",
       "      <td>adequate</td>\n",
       "    </tr>\n",
       "    <tr>\n",
       "      <th>...</th>\n",
       "      <td>...</td>\n",
       "      <td>...</td>\n",
       "      <td>...</td>\n",
       "      <td>...</td>\n",
       "      <td>...</td>\n",
       "      <td>...</td>\n",
       "      <td>...</td>\n",
       "    </tr>\n",
       "    <tr>\n",
       "      <th>90</th>\n",
       "      <td>47181</td>\n",
       "      <td>Tennessee</td>\n",
       "      <td>Wayne</td>\n",
       "      <td>5.0</td>\n",
       "      <td>16693</td>\n",
       "      <td>Rural</td>\n",
       "      <td>moderately adequate</td>\n",
       "    </tr>\n",
       "    <tr>\n",
       "      <th>91</th>\n",
       "      <td>47183</td>\n",
       "      <td>Tennessee</td>\n",
       "      <td>Weakley</td>\n",
       "      <td>18.0</td>\n",
       "      <td>33510</td>\n",
       "      <td>Rural</td>\n",
       "      <td>moderately adequate</td>\n",
       "    </tr>\n",
       "    <tr>\n",
       "      <th>92</th>\n",
       "      <td>47185</td>\n",
       "      <td>Tennessee</td>\n",
       "      <td>White</td>\n",
       "      <td>9.0</td>\n",
       "      <td>26800</td>\n",
       "      <td>Rural</td>\n",
       "      <td>moderately adequate</td>\n",
       "    </tr>\n",
       "    <tr>\n",
       "      <th>93</th>\n",
       "      <td>47187</td>\n",
       "      <td>Tennessee</td>\n",
       "      <td>Williamson</td>\n",
       "      <td>338.0</td>\n",
       "      <td>225389</td>\n",
       "      <td>Urban</td>\n",
       "      <td>adequate</td>\n",
       "    </tr>\n",
       "    <tr>\n",
       "      <th>94</th>\n",
       "      <td>47189</td>\n",
       "      <td>Tennessee</td>\n",
       "      <td>Wilson</td>\n",
       "      <td>43.0</td>\n",
       "      <td>136666</td>\n",
       "      <td>Urban</td>\n",
       "      <td>moderately adequate</td>\n",
       "    </tr>\n",
       "  </tbody>\n",
       "</table>\n",
       "<p>95 rows × 7 columns</p>\n",
       "</div>"
      ],
      "text/plain": [
       "     FIPS      state      county  primary_care_physicians  population  urban  \\\n",
       "0   47001  Tennessee    Anderson                     39.0       76061  Urban   \n",
       "1   47003  Tennessee     Bedford                     15.0       48292  Rural   \n",
       "2   47005  Tennessee      Benton                      3.0       16140  Rural   \n",
       "3   47007  Tennessee     Bledsoe                      1.0       14836  Rural   \n",
       "4   47009  Tennessee      Blount                     90.0      129927  Urban   \n",
       "..    ...        ...         ...                      ...         ...    ...   \n",
       "90  47181  Tennessee       Wayne                      5.0       16693  Rural   \n",
       "91  47183  Tennessee     Weakley                     18.0       33510  Rural   \n",
       "92  47185  Tennessee       White                      9.0       26800  Rural   \n",
       "93  47187  Tennessee  Williamson                    338.0      225389  Urban   \n",
       "94  47189  Tennessee      Wilson                     43.0      136666  Urban   \n",
       "\n",
       "        shadac_category  \n",
       "0   moderately adequate  \n",
       "1   moderately adequate  \n",
       "2        low inadequate  \n",
       "3        low inadequate  \n",
       "4              adequate  \n",
       "..                  ...  \n",
       "90  moderately adequate  \n",
       "91  moderately adequate  \n",
       "92  moderately adequate  \n",
       "93             adequate  \n",
       "94  moderately adequate  \n",
       "\n",
       "[95 rows x 7 columns]"
      ]
     },
     "execution_count": 50,
     "metadata": {},
     "output_type": "execute_result"
    }
   ],
   "source": [
    "physicians"
   ]
  },
  {
   "cell_type": "code",
   "execution_count": 31,
   "metadata": {},
   "outputs": [
    {
     "data": {
      "text/html": [
       "<div>\n",
       "<style scoped>\n",
       "    .dataframe tbody tr th:only-of-type {\n",
       "        vertical-align: middle;\n",
       "    }\n",
       "\n",
       "    .dataframe tbody tr th {\n",
       "        vertical-align: top;\n",
       "    }\n",
       "\n",
       "    .dataframe thead th {\n",
       "        text-align: right;\n",
       "    }\n",
       "</style>\n",
       "<table border=\"1\" class=\"dataframe\">\n",
       "  <thead>\n",
       "    <tr style=\"text-align: right;\">\n",
       "      <th></th>\n",
       "      <th>laus_code</th>\n",
       "      <th>State</th>\n",
       "      <th>County</th>\n",
       "      <th>Name</th>\n",
       "      <th>Period</th>\n",
       "      <th>LF</th>\n",
       "      <th>Employed</th>\n",
       "      <th>Unemployed</th>\n",
       "      <th>unemployment_rate</th>\n",
       "    </tr>\n",
       "  </thead>\n",
       "  <tbody>\n",
       "    <tr>\n",
       "      <th>0</th>\n",
       "      <td>CN4700100000000</td>\n",
       "      <td>47</td>\n",
       "      <td>1</td>\n",
       "      <td>Anderson County, TN</td>\n",
       "      <td>Mar-21</td>\n",
       "      <td>34704</td>\n",
       "      <td>33010</td>\n",
       "      <td>1694</td>\n",
       "      <td>4.9</td>\n",
       "    </tr>\n",
       "    <tr>\n",
       "      <th>1</th>\n",
       "      <td>CN4700300000000</td>\n",
       "      <td>47</td>\n",
       "      <td>3</td>\n",
       "      <td>Bedford County, TN</td>\n",
       "      <td>Mar-21</td>\n",
       "      <td>20623</td>\n",
       "      <td>19550</td>\n",
       "      <td>1073</td>\n",
       "      <td>5.2</td>\n",
       "    </tr>\n",
       "    <tr>\n",
       "      <th>2</th>\n",
       "      <td>CN4700500000000</td>\n",
       "      <td>47</td>\n",
       "      <td>5</td>\n",
       "      <td>Benton County, TN</td>\n",
       "      <td>Mar-21</td>\n",
       "      <td>6723</td>\n",
       "      <td>6305</td>\n",
       "      <td>418</td>\n",
       "      <td>6.2</td>\n",
       "    </tr>\n",
       "    <tr>\n",
       "      <th>3</th>\n",
       "      <td>CN4700700000000</td>\n",
       "      <td>47</td>\n",
       "      <td>7</td>\n",
       "      <td>Bledsoe County, TN</td>\n",
       "      <td>Mar-21</td>\n",
       "      <td>4252</td>\n",
       "      <td>3947</td>\n",
       "      <td>305</td>\n",
       "      <td>7.2</td>\n",
       "    </tr>\n",
       "    <tr>\n",
       "      <th>4</th>\n",
       "      <td>CN4700900000000</td>\n",
       "      <td>47</td>\n",
       "      <td>9</td>\n",
       "      <td>Blount County, TN</td>\n",
       "      <td>Mar-21</td>\n",
       "      <td>64098</td>\n",
       "      <td>61119</td>\n",
       "      <td>2979</td>\n",
       "      <td>4.6</td>\n",
       "    </tr>\n",
       "  </tbody>\n",
       "</table>\n",
       "</div>"
      ],
      "text/plain": [
       "         laus_code  State  County                 Name  Period     LF  \\\n",
       "0  CN4700100000000     47       1  Anderson County, TN  Mar-21  34704   \n",
       "1  CN4700300000000     47       3   Bedford County, TN  Mar-21  20623   \n",
       "2  CN4700500000000     47       5    Benton County, TN  Mar-21   6723   \n",
       "3  CN4700700000000     47       7   Bledsoe County, TN  Mar-21   4252   \n",
       "4  CN4700900000000     47       9    Blount County, TN  Mar-21  64098   \n",
       "\n",
       "   Employed  Unemployed  unemployment_rate  \n",
       "0     33010        1694                4.9  \n",
       "1     19550        1073                5.2  \n",
       "2      6305         418                6.2  \n",
       "3      3947         305                7.2  \n",
       "4     61119        2979                4.6  "
      ]
     },
     "execution_count": 31,
     "metadata": {},
     "output_type": "execute_result"
    }
   ],
   "source": [
    "unemployment = pd.read_csv('../../data/tn_unemployment.csv')\n",
    "unemployment.head()"
   ]
  },
  {
   "cell_type": "code",
   "execution_count": 47,
   "metadata": {},
   "outputs": [],
   "source": [
    "unemployment.Name = unemployment.Name.str.split(' County, TN', expand = True)[0]"
   ]
  },
  {
   "cell_type": "code",
   "execution_count": 52,
   "metadata": {},
   "outputs": [],
   "source": [
    "physicians = pd.merge(left=unemployment[['laus_code','Name','Employed','Unemployed','unemployment_rate']], left_on='Name',\n",
    "        right = physicians[['county','primary_care_physicians','population','urban','shadac_category']], right_on='county')"
   ]
  },
  {
   "cell_type": "code",
   "execution_count": 55,
   "metadata": {},
   "outputs": [
    {
     "data": {
      "text/html": [
       "<div>\n",
       "<style scoped>\n",
       "    .dataframe tbody tr th:only-of-type {\n",
       "        vertical-align: middle;\n",
       "    }\n",
       "\n",
       "    .dataframe tbody tr th {\n",
       "        vertical-align: top;\n",
       "    }\n",
       "\n",
       "    .dataframe thead th {\n",
       "        text-align: right;\n",
       "    }\n",
       "</style>\n",
       "<table border=\"1\" class=\"dataframe\">\n",
       "  <thead>\n",
       "    <tr style=\"text-align: right;\">\n",
       "      <th></th>\n",
       "      <th>laus_code</th>\n",
       "      <th>Name</th>\n",
       "      <th>Employed</th>\n",
       "      <th>Unemployed</th>\n",
       "      <th>unemployment_rate</th>\n",
       "      <th>county</th>\n",
       "      <th>primary_care_physicians</th>\n",
       "      <th>population</th>\n",
       "      <th>urban</th>\n",
       "      <th>shadac_category</th>\n",
       "    </tr>\n",
       "  </thead>\n",
       "  <tbody>\n",
       "    <tr>\n",
       "      <th>0</th>\n",
       "      <td>CN4700100000000</td>\n",
       "      <td>Anderson</td>\n",
       "      <td>33010</td>\n",
       "      <td>1694</td>\n",
       "      <td>4.9</td>\n",
       "      <td>Anderson</td>\n",
       "      <td>39.0</td>\n",
       "      <td>76061</td>\n",
       "      <td>Urban</td>\n",
       "      <td>moderately adequate</td>\n",
       "    </tr>\n",
       "    <tr>\n",
       "      <th>1</th>\n",
       "      <td>CN4700300000000</td>\n",
       "      <td>Bedford</td>\n",
       "      <td>19550</td>\n",
       "      <td>1073</td>\n",
       "      <td>5.2</td>\n",
       "      <td>Bedford</td>\n",
       "      <td>15.0</td>\n",
       "      <td>48292</td>\n",
       "      <td>Rural</td>\n",
       "      <td>moderately adequate</td>\n",
       "    </tr>\n",
       "    <tr>\n",
       "      <th>2</th>\n",
       "      <td>CN4700500000000</td>\n",
       "      <td>Benton</td>\n",
       "      <td>6305</td>\n",
       "      <td>418</td>\n",
       "      <td>6.2</td>\n",
       "      <td>Benton</td>\n",
       "      <td>3.0</td>\n",
       "      <td>16140</td>\n",
       "      <td>Rural</td>\n",
       "      <td>low inadequate</td>\n",
       "    </tr>\n",
       "    <tr>\n",
       "      <th>3</th>\n",
       "      <td>CN4700700000000</td>\n",
       "      <td>Bledsoe</td>\n",
       "      <td>3947</td>\n",
       "      <td>305</td>\n",
       "      <td>7.2</td>\n",
       "      <td>Bledsoe</td>\n",
       "      <td>1.0</td>\n",
       "      <td>14836</td>\n",
       "      <td>Rural</td>\n",
       "      <td>low inadequate</td>\n",
       "    </tr>\n",
       "    <tr>\n",
       "      <th>4</th>\n",
       "      <td>CN4700900000000</td>\n",
       "      <td>Blount</td>\n",
       "      <td>61119</td>\n",
       "      <td>2979</td>\n",
       "      <td>4.6</td>\n",
       "      <td>Blount</td>\n",
       "      <td>90.0</td>\n",
       "      <td>129927</td>\n",
       "      <td>Urban</td>\n",
       "      <td>adequate</td>\n",
       "    </tr>\n",
       "    <tr>\n",
       "      <th>...</th>\n",
       "      <td>...</td>\n",
       "      <td>...</td>\n",
       "      <td>...</td>\n",
       "      <td>...</td>\n",
       "      <td>...</td>\n",
       "      <td>...</td>\n",
       "      <td>...</td>\n",
       "      <td>...</td>\n",
       "      <td>...</td>\n",
       "      <td>...</td>\n",
       "    </tr>\n",
       "    <tr>\n",
       "      <th>90</th>\n",
       "      <td>CN4718100000000</td>\n",
       "      <td>Wayne</td>\n",
       "      <td>6074</td>\n",
       "      <td>342</td>\n",
       "      <td>5.3</td>\n",
       "      <td>Wayne</td>\n",
       "      <td>5.0</td>\n",
       "      <td>16693</td>\n",
       "      <td>Rural</td>\n",
       "      <td>moderately adequate</td>\n",
       "    </tr>\n",
       "    <tr>\n",
       "      <th>91</th>\n",
       "      <td>CN4718300000000</td>\n",
       "      <td>Weakley</td>\n",
       "      <td>14783</td>\n",
       "      <td>711</td>\n",
       "      <td>4.6</td>\n",
       "      <td>Weakley</td>\n",
       "      <td>18.0</td>\n",
       "      <td>33510</td>\n",
       "      <td>Rural</td>\n",
       "      <td>moderately adequate</td>\n",
       "    </tr>\n",
       "    <tr>\n",
       "      <th>92</th>\n",
       "      <td>CN4718500000000</td>\n",
       "      <td>White</td>\n",
       "      <td>11484</td>\n",
       "      <td>601</td>\n",
       "      <td>5.0</td>\n",
       "      <td>White</td>\n",
       "      <td>9.0</td>\n",
       "      <td>26800</td>\n",
       "      <td>Rural</td>\n",
       "      <td>moderately adequate</td>\n",
       "    </tr>\n",
       "    <tr>\n",
       "      <th>93</th>\n",
       "      <td>CN4718700000000</td>\n",
       "      <td>Williamson</td>\n",
       "      <td>125213</td>\n",
       "      <td>4271</td>\n",
       "      <td>3.3</td>\n",
       "      <td>Williamson</td>\n",
       "      <td>338.0</td>\n",
       "      <td>225389</td>\n",
       "      <td>Urban</td>\n",
       "      <td>adequate</td>\n",
       "    </tr>\n",
       "    <tr>\n",
       "      <th>94</th>\n",
       "      <td>CN4718900000000</td>\n",
       "      <td>Wilson</td>\n",
       "      <td>74347</td>\n",
       "      <td>3079</td>\n",
       "      <td>4.0</td>\n",
       "      <td>Wilson</td>\n",
       "      <td>43.0</td>\n",
       "      <td>136666</td>\n",
       "      <td>Urban</td>\n",
       "      <td>moderately adequate</td>\n",
       "    </tr>\n",
       "  </tbody>\n",
       "</table>\n",
       "<p>95 rows × 10 columns</p>\n",
       "</div>"
      ],
      "text/plain": [
       "          laus_code        Name  Employed  Unemployed  unemployment_rate  \\\n",
       "0   CN4700100000000    Anderson     33010        1694                4.9   \n",
       "1   CN4700300000000     Bedford     19550        1073                5.2   \n",
       "2   CN4700500000000      Benton      6305         418                6.2   \n",
       "3   CN4700700000000     Bledsoe      3947         305                7.2   \n",
       "4   CN4700900000000      Blount     61119        2979                4.6   \n",
       "..              ...         ...       ...         ...                ...   \n",
       "90  CN4718100000000       Wayne      6074         342                5.3   \n",
       "91  CN4718300000000     Weakley     14783         711                4.6   \n",
       "92  CN4718500000000       White     11484         601                5.0   \n",
       "93  CN4718700000000  Williamson    125213        4271                3.3   \n",
       "94  CN4718900000000      Wilson     74347        3079                4.0   \n",
       "\n",
       "        county  primary_care_physicians  population  urban  \\\n",
       "0     Anderson                     39.0       76061  Urban   \n",
       "1      Bedford                     15.0       48292  Rural   \n",
       "2       Benton                      3.0       16140  Rural   \n",
       "3      Bledsoe                      1.0       14836  Rural   \n",
       "4       Blount                     90.0      129927  Urban   \n",
       "..         ...                      ...         ...    ...   \n",
       "90       Wayne                      5.0       16693  Rural   \n",
       "91     Weakley                     18.0       33510  Rural   \n",
       "92       White                      9.0       26800  Rural   \n",
       "93  Williamson                    338.0      225389  Urban   \n",
       "94      Wilson                     43.0      136666  Urban   \n",
       "\n",
       "        shadac_category  \n",
       "0   moderately adequate  \n",
       "1   moderately adequate  \n",
       "2        low inadequate  \n",
       "3        low inadequate  \n",
       "4              adequate  \n",
       "..                  ...  \n",
       "90  moderately adequate  \n",
       "91  moderately adequate  \n",
       "92  moderately adequate  \n",
       "93             adequate  \n",
       "94  moderately adequate  \n",
       "\n",
       "[95 rows x 10 columns]"
      ]
     },
     "execution_count": 55,
     "metadata": {},
     "output_type": "execute_result"
    }
   ],
   "source": [
    "physicians"
   ]
  },
  {
   "cell_type": "code",
   "execution_count": 59,
   "metadata": {},
   "outputs": [
    {
     "data": {
      "text/plain": [
       "Text(0.5, 1.0, 'Unemployment by Type of County')"
      ]
     },
     "execution_count": 59,
     "metadata": {},
     "output_type": "execute_result"
    },
    {
     "data": {
      "image/png": "[encoded data removed]",
      "text/plain": [
       "<Figure size 432x288 with 1 Axes>"
      ]
     },
     "metadata": {
      "needs_background": "light"
     },
     "output_type": "display_data"
    }
   ],
   "source": [
    "import seaborn as sns\n",
    "sns.boxplot(physicians.urban,physicians.unemployment_rate)\n",
    "plt.xticks(rotation = 0)\n",
    "plt.title(\"Unemployment by Type of County\")"
   ]
  },
  {
   "cell_type": "code",
   "execution_count": 63,
   "metadata": {},
   "outputs": [],
   "source": [
    "physicians['pcp_per_100k'] = physicians.primary_care_physicians/physicians.population*100000"
   ]
  },
  {
   "cell_type": "code",
   "execution_count": 67,
   "metadata": {},
   "outputs": [
    {
     "data": {
      "text/plain": [
       "<seaborn.axisgrid.FacetGrid at 0x7fb2fd546890>"
      ]
     },
     "execution_count": 67,
     "metadata": {},
     "output_type": "execute_result"
    },
    {
     "data": {
      "image/png": "[encoded data removed]",
      "text/plain": [
       "<Figure size 360x360 with 1 Axes>"
      ]
     },
     "metadata": {
      "needs_background": "light"
     },
     "output_type": "display_data"
    }
   ],
   "source": [
    "sns.lmplot(data = physicians, y = 'pcp_per_100k', x = 'unemployment_rate')"
   ]
  },
  {
   "cell_type": "code",
   "execution_count": null,
   "metadata": {},
   "outputs": [],
   "source": []
  }
 ],
 "metadata": {
  "kernelspec": {
   "display_name": "Python 3",
   "language": "python",
   "name": "python3"
  },
  "language_info": {
   "codemirror_mode": {
    "name": "ipython",
    "version": 3
   },
   "file_extension": ".py",
   "mimetype": "text/x-python",
   "name": "python",
   "nbconvert_exporter": "python",
   "pygments_lexer": "ipython3",
   "version": "3.7.6"
  }
 },
 "nbformat": 4,
 "nbformat_minor": 4
}
