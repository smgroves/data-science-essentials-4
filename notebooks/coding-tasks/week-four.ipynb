{
 "cells": [
  {
   "cell_type": "markdown",
   "id": "4bd5aff6-9948-40ee-8efd-681a7c8f3ddd",
   "metadata": {},
   "source": [
    "# Week four"
   ]
  },
  {
   "cell_type": "markdown",
   "id": "84ec5a8c-142e-4b06-860a-468676eb31de",
   "metadata": {},
   "source": [
    "New Topics:\n",
    "\n",
    "* Reading data from Excel\n",
    "* `geopandas` and choropleths\n",
    "  \n",
    " Coding tasks:\n",
    "  \n",
    "  1. Create a choropleth showing the unemployment rate per county for each Tennessee county.\n",
    "  2. Create a choropleth showing the SHADAC category for each county (adequate, low inadequate, and moderately inadequate).\n",
    "  3. After creating the choropleth, you can start working on addressing the first two questions for TN Med Helper described in the project README. There are a few files in the data folder that can be helpful for this:\n",
    "  * Medicare_Disparities_by_Population - This folder contains data obtained from the [Centers for Medicare and Medicaid Services](https://data.cms.gov/tools/mapping-medicare-disparities-by-population), as described in the README.\n",
    "  * County_Health_Rankings - This folder contains the [2020 County Health Rankings](https://www.countyhealthrankings.org/).\n",
    "  * Closures-Database-for-Web.xlsx, which contains a dataset of rural hospital closures, obtained from [UNC's Sheps Center](https://www.shepscenter.unc.edu/programs-projects/rural-health/rural-hospital-closures/). "
   ]
  },
  {
   "cell_type": "markdown",
   "id": "be9021b2-8a6c-4152-9ffd-96a607571ed7",
   "metadata": {},
   "source": [
    "**Week four tasks are at the end of 4_cloropleth_tutorial.ipynb**"
   ]
  },
  {
   "cell_type": "code",
   "execution_count": null,
   "id": "0966457d-df97-489e-9754-7cd4f064bb36",
   "metadata": {},
   "outputs": [],
   "source": []
  }
 ],
 "metadata": {
  "kernelspec": {
   "display_name": "Python 3 (ipykernel)",
   "language": "python",
   "name": "python3"
  },
  "language_info": {
   "codemirror_mode": {
    "name": "ipython",
    "version": 3
   },
   "file_extension": ".py",
   "mimetype": "text/x-python",
   "name": "python",
   "nbconvert_exporter": "python",
   "pygments_lexer": "ipython3",
   "version": "3.9.6"
  }
 },
 "nbformat": 4,
 "nbformat_minor": 5
}
